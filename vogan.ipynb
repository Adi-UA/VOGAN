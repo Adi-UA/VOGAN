{
 "cells": [
  {
   "cell_type": "markdown",
   "metadata": {},
   "source": [
    "## Setup\n"
   ]
  },
  {
   "cell_type": "code",
   "execution_count": 114,
   "metadata": {},
   "outputs": [
    {
     "name": "stdout",
     "output_type": "stream",
     "text": [
      "\n",
      "\u001b[1m[\u001b[0m\u001b[34;49mnotice\u001b[0m\u001b[1;39;49m]\u001b[0m\u001b[39;49m A new release of pip is available: \u001b[0m\u001b[31;49m23.1.2\u001b[0m\u001b[39;49m -> \u001b[0m\u001b[32;49m23.3.1\u001b[0m\n",
      "\u001b[1m[\u001b[0m\u001b[34;49mnotice\u001b[0m\u001b[1;39;49m]\u001b[0m\u001b[39;49m To update, run: \u001b[0m\u001b[32;49mpip install --upgrade pip\u001b[0m\n"
     ]
    }
   ],
   "source": [
    "!pip3 -q install torch torchvision torchaudio tensorboard matplotlib tqdm"
   ]
  },
  {
   "cell_type": "code",
   "execution_count": 115,
   "metadata": {},
   "outputs": [],
   "source": [
    "import torch\n",
    "from torch import nn\n",
    "import torchvision\n",
    "import torchvision.transforms as transforms\n",
    "import numpy as np\n",
    "\n",
    "\n",
    "def seed_everything(SEED):\n",
    "    torch.manual_seed(SEED)\n",
    "    torch.cuda.manual_seed_all(SEED)\n",
    "    np.random.seed(SEED)\n",
    "    torch.backends.cudnn.deterministic = True\n",
    "\n",
    "def get_device():\n",
    "    device = 'cuda' if torch.cuda.is_available() else 'cpu'\n",
    "    device = 'mps' if torch.backends.mps.is_available() else device\n",
    "    return device\n",
    "\n",
    "\n",
    "SEED = 42\n",
    "seed_everything(SEED)\n",
    "device = get_device()"
   ]
  },
  {
   "cell_type": "markdown",
   "metadata": {},
   "source": [
    "## 1. Get the data\n"
   ]
  },
  {
   "cell_type": "code",
   "execution_count": 116,
   "metadata": {},
   "outputs": [
    {
     "name": "stdout",
     "output_type": "stream",
     "text": [
      "Training set has 60000 instances\n",
      "Validation set has 10000 instances\n",
      " Classes: ['T-shirt/top', 'Trouser', 'Pullover', 'Dress', 'Coat', 'Sandal', 'Shirt', 'Sneaker', 'Bag', 'Ankle boot']\n",
      "Batch size: 128\n",
      "Training batches: 469\n",
      "Testing batches: 79\n"
     ]
    }
   ],
   "source": [
    "# Define a transform to convert the data to PyTorch tensors and normalize the data\n",
    "transform = transforms.Compose(\n",
    "    [transforms.ToTensor(),\n",
    "    transforms.Grayscale(num_output_channels=1),\n",
    "    ])\n",
    "\n",
    "# Create datasets for training & validation, download if necessary\n",
    "training_data = torchvision.datasets.FashionMNIST('data', train=True, transform=transform, download=True)\n",
    "testing_data = torchvision.datasets.FashionMNIST('data', train=False, transform=transform, download=True)\n",
    "\n",
    "# Create data loaders for our datasets; shuffle for training, not for validation\n",
    "BATCH_SIZE = 128\n",
    "training_dataloader = torch.utils.data.DataLoader(training_data, batch_size=BATCH_SIZE, shuffle=True)\n",
    "testing_dataloader = torch.utils.data.DataLoader(testing_data, batch_size=BATCH_SIZE, shuffle=False)\n",
    "\n",
    "# Report split sizes\n",
    "print('Training set has {} instances'.format(len(training_data)))\n",
    "print('Validation set has {} instances'.format(len(testing_data)))\n",
    "print(f' Classes: {training_data.classes}')\n",
    "print(f'Batch size: {BATCH_SIZE}')\n",
    "print('Training batches: {}'.format(len(training_dataloader)))\n",
    "print('Testing batches: {}'.format(len(testing_dataloader)))"
   ]
  },
  {
   "cell_type": "markdown",
   "metadata": {},
   "source": [
    "## 2. Explore the data\n"
   ]
  },
  {
   "cell_type": "code",
   "execution_count": 117,
   "metadata": {},
   "outputs": [
    {
     "data": {
      "image/png": "[encoded data removed]",
      "text/plain": [
       "<Figure size 640x480 with 9 Axes>"
      ]
     },
     "metadata": {},
     "output_type": "display_data"
    }
   ],
   "source": [
    "import matplotlib.pyplot as plt\n",
    "\n",
    "classes = training_data.classes\n",
    "\n",
    "def visualize_data(data):\n",
    "    n_samples = 9\n",
    "    sample_indices = np.random.choice(len(data), n_samples, replace=False)\n",
    "    sample_images =data.data[sample_indices]\n",
    "    sample_labels = data.targets[sample_indices]\n",
    "    sample_labels=  [training_data.classes[label] for label in sample_labels]\n",
    "\n",
    "    for i in range(n_samples):\n",
    "        plt.subplot(3, 3, i+1)\n",
    "        img = sample_images[i].cpu()\n",
    "        label  = sample_labels[i]\n",
    "        plt.imshow(img, cmap='gray')\n",
    "        plt.title(label)\n",
    "        plt.axis('off')\n",
    "\n",
    "visualize_data(training_data)"
   ]
  },
  {
   "cell_type": "markdown",
   "metadata": {},
   "source": [
    "## 3. Build Generator\n"
   ]
  },
  {
   "cell_type": "code",
   "execution_count": 118,
   "metadata": {},
   "outputs": [],
   "source": [
    "class Generator(nn.Module):\n",
    "    def __init__(self):\n",
    "        super().__init__()     \n",
    "        self.latent_dim_size = 128\n",
    "\n",
    "        self.latent_space = nn.Sequential(\n",
    "            nn.Linear(self.latent_dim_size, self.latent_dim_size*8*8),\n",
    "            nn.Flatten(),\n",
    "            nn.LeakyReLU(0.2)\n",
    "        )\n",
    "        self.upsample_1 = nn.Sequential(\n",
    "            nn.Upsample(size=(16, 16), mode='bilinear'),\n",
    "            nn.Conv2d(self.latent_dim_size, 128, kernel_size=5 ,padding='same'),\n",
    "            nn.LeakyReLU(0.2),\n",
    "        )\n",
    "        self.upsample_2 = nn.Sequential(\n",
    "            nn.Upsample(size=(28, 28), mode='bilinear'),\n",
    "            nn.Conv2d(128, 128, kernel_size=5 ,padding='same'),\n",
    "            nn.LeakyReLU(0.2),\n",
    "        )\n",
    "        self.conv = nn.Sequential(\n",
    "            nn.Conv2d(128, 128, kernel_size=4 ,padding='same'),\n",
    "            nn.LeakyReLU(0.2),\n",
    "            nn.Conv2d(128, 128, kernel_size=4 ,padding='same'),\n",
    "            nn.LeakyReLU(0.2),\n",
    "        )\n",
    "\n",
    "        self.output = nn.Sequential(\n",
    "            nn.Conv2d(128, 1, kernel_size=3 ,padding='same'),\n",
    "        )\n",
    "\n",
    "    def forward(self, x):\n",
    "        x = self.latent_space(x)\n",
    "        x = x.reshape(-1, self.latent_dim_size, 8, 8)\n",
    "        x = self.upsample_1(x)\n",
    "        x = self.upsample_2(x)\n",
    "        x = self.conv(x)\n",
    "        y = self.output(x)\n",
    "        return y"
   ]
  },
  {
   "cell_type": "markdown",
   "metadata": {},
   "source": [
    "Let's convince ourselves that our generator has the correct input and output shapes.\n"
   ]
  },
  {
   "cell_type": "code",
   "execution_count": 119,
   "metadata": {},
   "outputs": [
    {
     "name": "stdout",
     "output_type": "stream",
     "text": [
      "Input shape: torch.Size([1, 128])\n",
      "Output shape: torch.Size([1, 1, 28, 28])\n",
      "Batch Input shape: torch.Size([32, 128])\n",
      "Batch Output shape: torch.Size([32, 1, 28, 28])\n"
     ]
    }
   ],
   "source": [
    "# Sanity check\n",
    "generator = Generator()\n",
    "X = torch.randn(1, 128)\n",
    "print(f\"Input shape: {X.shape}\")\n",
    "out = generator(X)\n",
    "print(f\"Output shape: {out.shape}\")\n",
    "\n",
    "X = torch.randn(32, 128)\n",
    "print(f\"Batch Input shape: {X.shape}\")\n",
    "out = generator(X)\n",
    "print(f\"Batch Output shape: {out.shape}\")\n"
   ]
  },
  {
   "cell_type": "markdown",
   "metadata": {},
   "source": [
    "Let's also generate some sample images from the generator. These should be completely random without any structure right now.\n"
   ]
  },
  {
   "cell_type": "code",
   "execution_count": 120,
   "metadata": {},
   "outputs": [],
   "source": [
    "# Generate some images\n",
    "def generate_samples(generator, device):\n",
    "    n_samples = 9\n",
    "    generator.eval()\n",
    "    generator.to(device)\n",
    "    with torch.inference_mode():\n",
    "        X = torch.randn(n_samples, 128).to(device)\n",
    "        generated = generator(X)\n",
    "        generated = generated.cpu().detach()\n",
    "\n",
    "    # Visualize generated images\n",
    "    plt.figure(figsize=(7, 7))\n",
    "    plt.title('Generated Images')\n",
    "    plt.axis('off')\n",
    "    for i in range(n_samples):\n",
    "        plt.subplot(3, 3, i+1)\n",
    "        img = generated[i].squeeze()\n",
    "        plt.imshow(img, cmap='gray')\n",
    "        plt.axis('off')\n",
    "\n"
   ]
  },
  {
   "cell_type": "code",
   "execution_count": 121,
   "metadata": {},
   "outputs": [
    {
     "data": {
      "image/png": "[encoded data removed]",
      "text/plain": [
       "<Figure size 700x700 with 10 Axes>"
      ]
     },
     "metadata": {},
     "output_type": "display_data"
    }
   ],
   "source": [
    "generate_samples(generator, device)"
   ]
  },
  {
   "cell_type": "markdown",
   "metadata": {},
   "source": [
    "## 4. Build Discriminator\n",
    "\n",
    "The discriminator will take the sample from the generator and the real data and try to classify them as real or fake. It will use a bunch of convolutional layers to find filters that can be used to classify the data. The output of the discriminator will be a single number logit.\n"
   ]
  },
  {
   "cell_type": "code",
   "execution_count": 122,
   "metadata": {},
   "outputs": [],
   "source": [
    "class Discriminator(nn.Module):\n",
    "\n",
    "    def __init__(self):\n",
    "        super().__init__()\n",
    "        self.conv1 = nn.Sequential(\n",
    "            nn.Conv2d(1, 32, kernel_size=3),\n",
    "            nn.LeakyReLU(0.2),\n",
    "            nn.Dropout(0.3),\n",
    "        )\n",
    "        self.conv2 = nn.Sequential(\n",
    "            nn.Conv2d(32, 64, kernel_size=3),\n",
    "            nn.LeakyReLU(0.2),\n",
    "            nn.Dropout(0.3),\n",
    "        )\n",
    "        self.conv3 = nn.Sequential(\n",
    "            nn.Conv2d(64, 128, kernel_size=3),\n",
    "            nn.LeakyReLU(0.2),\n",
    "            nn.Dropout(0.3),\n",
    "        )\n",
    "        self.conv4 = nn.Sequential(\n",
    "            nn.Conv2d(128, 256, kernel_size=3),\n",
    "            nn.LeakyReLU(0.2),\n",
    "            nn.Dropout(0.3),\n",
    "            nn.MaxPool2d(2, 2),\n",
    "        )\n",
    "        self.output = nn.Sequential(\n",
    "            nn.Flatten(),\n",
    "            nn.Linear(256*10*10, 1),\n",
    "        )\n",
    "\n",
    "    def forward(self, x):\n",
    "        x = self.conv1(x)\n",
    "        x = self.conv2(x)\n",
    "        x = self.conv3(x)\n",
    "        y = self.conv4(x)\n",
    "        y = self.output(y)\n",
    "        return y"
   ]
  },
  {
   "cell_type": "markdown",
   "metadata": {},
   "source": [
    "Let's convince ourselves that the input and output shapes of the discriminator are correct.\n"
   ]
  },
  {
   "cell_type": "code",
   "execution_count": 123,
   "metadata": {},
   "outputs": [
    {
     "name": "stdout",
     "output_type": "stream",
     "text": [
      "Input shape: torch.Size([1, 1, 28, 28])\n",
      "Output shape: torch.Size([1, 1])\n",
      "Batch Input shape: torch.Size([32, 1, 28, 28])\n",
      "Batch Output shape: torch.Size([32, 1])\n"
     ]
    }
   ],
   "source": [
    "# Sanity check\n",
    "discriminator = Discriminator()\n",
    "X = torch.randn(1, 1, 28, 28)\n",
    "print(f\"Input shape: {X.shape}\")\n",
    "out = discriminator(X)\n",
    "print(f\"Output shape: {out.shape}\")\n",
    "\n",
    "X = torch.randn(32, 1, 28, 28)\n",
    "print(f\"Batch Input shape: {X.shape}\")\n",
    "out = discriminator(X)\n",
    "print(f\"Batch Output shape: {out.shape}\")"
   ]
  },
  {
   "cell_type": "markdown",
   "metadata": {},
   "source": [
    "## 5. Train\n",
    "\n",
    "This is the main part of the code. We will train the GAN here. We need to train the discriminator and the generator in an alternating fashion. I will use the following algorithm:\n",
    "\n",
    "1. Take a batch of real samples and a batch of fake samples from the generator.\n",
    "2. Train the discriminator for one step on this batch. We will use the cross entropy loss. We want the discriminator to output 1 for real images and 0 for fake images. So we will compare the output of the discriminator with a tensor of zeros for the real images and a tensor of ones for the fake images.\n",
    "3. Backpropagate the error through the discriminator.\n",
    "4. Take a batch of fake samples from the generator and pass it through the discriminator to get the output. We don't need to calculate the gradients for the discriminator here, so set the model to eval mode.\n",
    "5. Calculate the loss for the generator using the output from the discriminator. We want the generator to output images that the discriminator classifies as real. So compare the output of the discriminator with a tensor of ones for these fake images.\n",
    "6. Backpropagate the error through the generator.\n",
    "7. Repeat steps 1-6 for a number of epochs.\n"
   ]
  },
  {
   "cell_type": "code",
   "execution_count": null,
   "metadata": {},
   "outputs": [],
   "source": [
    "from tqdm import tqdm\n",
    "\n",
    "def train(generator, discriminator, generator_loss_fn, discriminator_loss_fn, generator_optimizer, discriminator_optimizer, training_dataloader, device, epochs):\n",
    "    for epoch in tqdm(range(epochs)):\n",
    "        print(f\"Epoch {epoch+1} of {epochs}\")\n",
    "        print(\"-\"*20)\n",
    "\n",
    "        epoch_g_loss, epoch_d_loss = 0., 0.\n",
    "\n",
    "        for batch, (X_train, _) in enumerate(training_dataloader):\n",
    "            # Move images to device\n",
    "            X = X_train.to(device)\n",
    "\n",
    "            # Real images and fake images\n",
    "            generator.eval()\n",
    "            d_real_X = X\n",
    "            d_fake_X = generator(torch.randn(BATCH_SIZE, 128).to(device))\n",
    "\n",
    "            # Train discriminator\n",
    "            discriminator.train()\n",
    "\n",
    "            # Get discriminator outputs for real and fake images\n",
    "            d_real_Y = discriminator(d_real_X)\n",
    "            d_fake_Y = discriminator(d_fake_X)\n",
    "            d_Y = torch.cat([d_real_Y, d_fake_Y], dim=0)\n",
    "\n",
    "            # Create labels for discriminator outputs based on real or fake\n",
    "            d_Y_train = torch.cat([torch.zeros_like(d_real_Y), torch.ones_like(d_fake_Y)], dim=0)\n",
    "            noise = torch.randn(d_Y.shape).to(device)\n",
    "            d_Y_train += 0.15 * noise\n",
    "            d_Y_train = d_Y_train\n",
    "            \n",
    "            # Calculate discriminator loss and update weights\n",
    "            d_loss = discriminator_loss_fn(d_Y, d_Y_train)\n",
    "            epoch_d_loss += d_loss\n",
    "            discriminator_optimizer.zero_grad()\n",
    "            d_loss.backward()\n",
    "            discriminator_optimizer.step()\n",
    "\n",
    "            # Train generator\n",
    "            generator.train()\n",
    "\n",
    "            # Generate fake images\n",
    "            d_fake_X = generator(torch.randn(BATCH_SIZE, 128).to(device))\n",
    "\n",
    "            # Get discriminator outputs for fake images\n",
    "            discriminator.eval()\n",
    "            # Get discriminator outputs for fake images\n",
    "            d_fake_Y = discriminator(d_fake_X)\n",
    "\n",
    "            # For generator, we want the discriminator to think the images are real (0)\n",
    "            # So the output is compared to 0s (1 would mean fake)\n",
    "            d_Y_train = torch.zeros_like(d_fake_Y).to(device)\n",
    "\n",
    "            # Calculate generator loss and update weights\n",
    "            g_loss = generator_loss_fn(d_fake_Y, d_Y_train)\n",
    "            epoch_g_loss += g_loss\n",
    "            generator_optimizer.zero_grad()\n",
    "            g_loss.backward()\n",
    "            generator_optimizer.step()\n",
    "\n",
    "            if batch % 100 == 0:\n",
    "                print(f\"Batch {batch} | Generator Loss: {g_loss:.2f} | Discriminator Loss: {d_loss:.2f}\")\n",
    "\n",
    "        epoch_g_loss = epoch_g_loss / len(training_dataloader)\n",
    "        epoch_d_loss = epoch_d_loss / len(training_dataloader)\n",
    "        print(f\"Generator Loss: {epoch_g_loss:.2f} - Discriminator Loss: {epoch_d_loss:.2f}\")\n",
    "        print(\"-\"*20)"
   ]
  },
  {
   "cell_type": "code",
   "execution_count": 126,
   "metadata": {},
   "outputs": [
    {
     "name": "stderr",
     "output_type": "stream",
     "text": [
      "  0%|          | 0/1 [00:00<?, ?it/s]"
     ]
    },
    {
     "name": "stdout",
     "output_type": "stream",
     "text": [
      "Epoch 1 of 1\n",
      "--------------------\n",
      "Batch 0 | Generator Loss: 0.67 | Discriminator Loss: 0.69\n"
     ]
    },
    {
     "name": "stderr",
     "output_type": "stream",
     "text": [
      "  0%|          | 0/1 [00:15<?, ?it/s]\n"
     ]
    },
    {
     "ename": "KeyboardInterrupt",
     "evalue": "",
     "output_type": "error",
     "traceback": [
      "\u001b[0;31m---------------------------------------------------------------------------\u001b[0m",
      "\u001b[0;31mKeyboardInterrupt\u001b[0m                         Traceback (most recent call last)",
      "\u001b[1;32m/Users/adios/Documents/VOGAN/vogan.ipynb Cell 21\u001b[0m line \u001b[0;36m1\n\u001b[1;32m      <a href='vscode-notebook-cell:/Users/adios/Documents/VOGAN/vogan.ipynb#X30sZmlsZQ%3D%3D?line=7'>8</a>\u001b[0m discriminator_optimizer \u001b[39m=\u001b[39m torch\u001b[39m.\u001b[39moptim\u001b[39m.\u001b[39mAdam(discriminator\u001b[39m.\u001b[39mparameters(), lr\u001b[39m=\u001b[39m\u001b[39m2e-4\u001b[39m, betas\u001b[39m=\u001b[39m(\u001b[39m0.5\u001b[39m, \u001b[39m0.999\u001b[39m))\n\u001b[1;32m     <a href='vscode-notebook-cell:/Users/adios/Documents/VOGAN/vogan.ipynb#X30sZmlsZQ%3D%3D?line=9'>10</a>\u001b[0m epochs \u001b[39m=\u001b[39m \u001b[39m1\u001b[39m\n\u001b[0;32m---> <a href='vscode-notebook-cell:/Users/adios/Documents/VOGAN/vogan.ipynb#X30sZmlsZQ%3D%3D?line=10'>11</a>\u001b[0m train(generator, discriminator, generator_loss_fn, discriminator_loss_fn, generator_optimizer, discriminator_optimizer, training_dataloader, device, epochs)\n",
      "\u001b[1;32m/Users/adios/Documents/VOGAN/vogan.ipynb Cell 21\u001b[0m line \u001b[0;36m4\n\u001b[1;32m     <a href='vscode-notebook-cell:/Users/adios/Documents/VOGAN/vogan.ipynb#X30sZmlsZQ%3D%3D?line=39'>40</a>\u001b[0m generator\u001b[39m.\u001b[39mtrain()\n\u001b[1;32m     <a href='vscode-notebook-cell:/Users/adios/Documents/VOGAN/vogan.ipynb#X30sZmlsZQ%3D%3D?line=41'>42</a>\u001b[0m \u001b[39m# Generate fake images\u001b[39;00m\n\u001b[0;32m---> <a href='vscode-notebook-cell:/Users/adios/Documents/VOGAN/vogan.ipynb#X30sZmlsZQ%3D%3D?line=42'>43</a>\u001b[0m d_fake_X \u001b[39m=\u001b[39m generator(torch\u001b[39m.\u001b[39;49mrandn(BATCH_SIZE, \u001b[39m128\u001b[39;49m)\u001b[39m.\u001b[39;49mto(device))\n\u001b[1;32m     <a href='vscode-notebook-cell:/Users/adios/Documents/VOGAN/vogan.ipynb#X30sZmlsZQ%3D%3D?line=44'>45</a>\u001b[0m \u001b[39m# Get discriminator outputs for fake images\u001b[39;00m\n\u001b[1;32m     <a href='vscode-notebook-cell:/Users/adios/Documents/VOGAN/vogan.ipynb#X30sZmlsZQ%3D%3D?line=45'>46</a>\u001b[0m discriminator\u001b[39m.\u001b[39meval()\n",
      "\u001b[0;31mKeyboardInterrupt\u001b[0m: "
     ]
    }
   ],
   "source": [
    "device = get_device()\n",
    "generator = Generator().to(device)\n",
    "discriminator = Discriminator().to(device)\n",
    "\n",
    "generator_loss_fn = nn.BCEWithLogitsLoss()\n",
    "generator_optimizer = torch.optim.Adam(generator.parameters(), lr=2e-4, betas=(0.5, 0.999))\n",
    "discriminator_loss_fn = nn.BCEWithLogitsLoss()\n",
    "discriminator_optimizer = torch.optim.Adam(discriminator.parameters(), lr=2e-4, betas=(0.5, 0.999))\n",
    "\n",
    "epochs = 10\n",
    "train(generator, discriminator, generator_loss_fn, discriminator_loss_fn, generator_optimizer, discriminator_optimizer, training_dataloader, device, epochs)"
   ]
  },
  {
   "cell_type": "markdown",
   "metadata": {},
   "source": [
    "## 6. Evaluate the results\n",
    "\n",
    "Visualize the results of the trained generator. They should look like fashion items.\n"
   ]
  },
  {
   "cell_type": "code",
   "execution_count": 127,
   "metadata": {},
   "outputs": [
    {
     "data": {
      "image/png": "[encoded data removed]",
      "text/plain": [
       "<Figure size 700x700 with 10 Axes>"
      ]
     },
     "metadata": {},
     "output_type": "display_data"
    }
   ],
   "source": [
    "generate_samples(generator, device)"
   ]
  }
 ],
 "metadata": {
  "kernelspec": {
   "display_name": "venv",
   "language": "python",
   "name": "python3"
  },
  "language_info": {
   "codemirror_mode": {
    "name": "ipython",
    "version": 3
   },
   "file_extension": ".py",
   "mimetype": "text/x-python",
   "name": "python",
   "nbconvert_exporter": "python",
   "pygments_lexer": "ipython3",
   "version": "3.11.4"
  }
 },
 "nbformat": 4,
 "nbformat_minor": 2
}
