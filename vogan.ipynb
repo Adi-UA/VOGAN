{
  "cells": [
    {
      "cell_type": "markdown",
      "metadata": {
        "id": "MKlqN-DNTgF8"
      },
      "source": [
        "## Setup\n"
      ]
    },
    {
      "cell_type": "code",
      "execution_count": 1,
      "metadata": {
        "id": "pidNPV4_TgF_"
      },
      "outputs": [],
      "source": [
        "!pip3 -q install torch torchvision torchaudio tensorboard matplotlib tqdm"
      ]
    },
    {
      "cell_type": "code",
      "execution_count": 2,
      "metadata": {
        "id": "LD2ImkFGTgGA"
      },
      "outputs": [],
      "source": [
        "import torch\n",
        "from torch import nn\n",
        "import torchvision\n",
        "import torchvision.transforms as transforms\n",
        "import numpy as np\n",
        "\n",
        "\n",
        "def seed_everything(SEED):\n",
        "    torch.manual_seed(SEED)\n",
        "    torch.cuda.manual_seed_all(SEED)\n",
        "    np.random.seed(SEED)\n",
        "    torch.backends.cudnn.deterministic = True\n",
        "\n",
        "def get_device():\n",
        "    device = 'cuda' if torch.cuda.is_available() else 'cpu'\n",
        "    device = 'mps' if torch.backends.mps.is_available() else device\n",
        "    return device\n",
        "\n",
        "\n",
        "SEED = 42\n",
        "seed_everything(SEED)\n",
        "device = get_device()"
      ]
    },
    {
      "cell_type": "markdown",
      "metadata": {
        "id": "p-PXOdl3TgGB"
      },
      "source": [
        "## 1. Get the data\n"
      ]
    },
    {
      "cell_type": "code",
      "execution_count": 3,
      "metadata": {
        "colab": {
          "base_uri": "https://localhost:8080/"
        },
        "id": "_wlrFSW0TgGB",
        "outputId": "38226f66-28f6-41c4-ccd9-4929da1cf408"
      },
      "outputs": [
        {
          "name": "stdout",
          "output_type": "stream",
          "text": [
            "Training set has 60000 instances\n",
            "Validation set has 10000 instances\n",
            " Classes: ['T-shirt/top', 'Trouser', 'Pullover', 'Dress', 'Coat', 'Sandal', 'Shirt', 'Sneaker', 'Bag', 'Ankle boot']\n",
            "Batch size: 128\n",
            "Training batches: 469\n",
            "Testing batches: 79\n"
          ]
        }
      ],
      "source": [
        "# Define a transform to convert the data to PyTorch tensors and normalize the data\n",
        "transform = transforms.Compose(\n",
        "    [transforms.ToTensor(),\n",
        "    transforms.Grayscale(num_output_channels=1),\n",
        "    ])\n",
        "\n",
        "# Create datasets for training & validation, download if necessary\n",
        "training_data = torchvision.datasets.FashionMNIST('data', train=True, transform=transform, download=True)\n",
        "testing_data = torchvision.datasets.FashionMNIST('data', train=False, transform=transform, download=True)\n",
        "\n",
        "# Create data loaders for our datasets; shuffle for training, not for validation\n",
        "BATCH_SIZE = 128\n",
        "training_dataloader = torch.utils.data.DataLoader(training_data, batch_size=BATCH_SIZE, shuffle=True)\n",
        "testing_dataloader = torch.utils.data.DataLoader(testing_data, batch_size=BATCH_SIZE, shuffle=False)\n",
        "\n",
        "# Report split sizes\n",
        "print('Training set has {} instances'.format(len(training_data)))\n",
        "print('Validation set has {} instances'.format(len(testing_data)))\n",
        "print(f' Classes: {training_data.classes}')\n",
        "print(f'Batch size: {BATCH_SIZE}')\n",
        "print('Training batches: {}'.format(len(training_dataloader)))\n",
        "print('Testing batches: {}'.format(len(testing_dataloader)))"
      ]
    },
    {
      "cell_type": "markdown",
      "metadata": {
        "id": "qgT6shOvTgGC"
      },
      "source": [
        "## 2. Explore the data\n"
      ]
    },
    {
      "cell_type": "code",
      "execution_count": 4,
      "metadata": {
        "colab": {
          "base_uri": "https://localhost:8080/",
          "height": 428
        },
        "id": "0rRj7cr5TgGC",
        "outputId": "d1e331fb-1b21-44f1-8781-36fca0666373"
      },
      "outputs": [
        {
          "data": {
            "image/png": "[encoded data removed]",
            "text/plain": [
              "<Figure size 640x480 with 9 Axes>"
            ]
          },
          "metadata": {},
          "output_type": "display_data"
        }
      ],
      "source": [
        "import matplotlib.pyplot as plt\n",
        "\n",
        "classes = training_data.classes\n",
        "\n",
        "def visualize_data(data):\n",
        "    n_samples = 9\n",
        "    sample_indices = np.random.choice(len(data), n_samples, replace=False)\n",
        "    sample_images =data.data[sample_indices]\n",
        "    sample_labels = data.targets[sample_indices]\n",
        "    sample_labels=  [training_data.classes[label] for label in sample_labels]\n",
        "\n",
        "    for i in range(n_samples):\n",
        "        plt.subplot(3, 3, i+1)\n",
        "        img = sample_images[i].cpu()\n",
        "        label  = sample_labels[i]\n",
        "        plt.imshow(img, cmap='gray')\n",
        "        plt.title(label)\n",
        "        plt.axis('off')\n",
        "\n",
        "visualize_data(training_data)"
      ]
    },
    {
      "cell_type": "markdown",
      "metadata": {
        "id": "7yEjdqomTgGD"
      },
      "source": [
        "## 3. Build Generator\n"
      ]
    },
    {
      "cell_type": "code",
      "execution_count": 5,
      "metadata": {
        "id": "8xetwAv0TgGD"
      },
      "outputs": [],
      "source": [
        "class Generator(nn.Module):\n",
        "    def __init__(self):\n",
        "        super().__init__()\n",
        "        self.latent_dim_size = 128\n",
        "\n",
        "        self.latent_space = nn.Sequential(\n",
        "            nn.Linear(self.latent_dim_size, self.latent_dim_size*8*8),\n",
        "            nn.Flatten(),\n",
        "            nn.LeakyReLU(0.2)\n",
        "        )\n",
        "        self.upsample_1 = nn.Sequential(\n",
        "            nn.Upsample(size=(16, 16), mode='bilinear'),\n",
        "            nn.Conv2d(self.latent_dim_size, 128, kernel_size=5 ,padding='same'),\n",
        "            nn.LeakyReLU(0.2),\n",
        "        )\n",
        "        self.upsample_2 = nn.Sequential(\n",
        "            nn.Upsample(size=(28, 28), mode='bilinear'),\n",
        "            nn.Conv2d(128, 128, kernel_size=5 ,padding='same'),\n",
        "            nn.LeakyReLU(0.2),\n",
        "        )\n",
        "        self.conv = nn.Sequential(\n",
        "            nn.Conv2d(128, 128, kernel_size=4 ,padding='same'),\n",
        "            nn.LeakyReLU(0.2),\n",
        "            nn.Conv2d(128, 128, kernel_size=4 ,padding='same'),\n",
        "            nn.LeakyReLU(0.2),\n",
        "        )\n",
        "\n",
        "        self.output = nn.Sequential(\n",
        "            nn.Conv2d(128, 1, kernel_size=3 ,padding='same'),\n",
        "        )\n",
        "\n",
        "    def forward(self, x):\n",
        "        x = self.latent_space(x)\n",
        "        x = x.reshape(-1, self.latent_dim_size, 8, 8)\n",
        "        x = self.upsample_1(x)\n",
        "        x = self.upsample_2(x)\n",
        "        x = self.conv(x)\n",
        "        y = self.output(x)\n",
        "        return y"
      ]
    },
    {
      "cell_type": "markdown",
      "metadata": {
        "id": "92TmtfpPTgGD"
      },
      "source": [
        "Let's convince ourselves that our generator has the correct input and output shapes.\n"
      ]
    },
    {
      "cell_type": "code",
      "execution_count": 6,
      "metadata": {
        "colab": {
          "base_uri": "https://localhost:8080/"
        },
        "id": "GEglFSW4TgGE",
        "outputId": "59d9b130-3f7f-46d4-edf5-cd05712c6986"
      },
      "outputs": [
        {
          "name": "stdout",
          "output_type": "stream",
          "text": [
            "Input shape: torch.Size([1, 128])\n",
            "Output shape: torch.Size([1, 1, 28, 28])\n",
            "Batch Input shape: torch.Size([32, 128])\n"
          ]
        },
        {
          "name": "stderr",
          "output_type": "stream",
          "text": [
            "/usr/local/lib/python3.10/dist-packages/torch/nn/modules/conv.py:456: UserWarning: Using padding='same' with even kernel lengths and odd dilation may require a zero-padded copy of the input be created (Triggered internally at ../aten/src/ATen/native/Convolution.cpp:1008.)\n",
            "  return F.conv2d(input, weight, bias, self.stride,\n"
          ]
        },
        {
          "name": "stdout",
          "output_type": "stream",
          "text": [
            "Batch Output shape: torch.Size([32, 1, 28, 28])\n"
          ]
        }
      ],
      "source": [
        "# Sanity check\n",
        "generator = Generator()\n",
        "X = torch.randn(1, 128)\n",
        "print(f\"Input shape: {X.shape}\")\n",
        "out = generator(X)\n",
        "print(f\"Output shape: {out.shape}\")\n",
        "\n",
        "X = torch.randn(32, 128)\n",
        "print(f\"Batch Input shape: {X.shape}\")\n",
        "out = generator(X)\n",
        "print(f\"Batch Output shape: {out.shape}\")\n"
      ]
    },
    {
      "cell_type": "markdown",
      "metadata": {
        "id": "R8A0qCloTgGE"
      },
      "source": [
        "Let's also generate some sample images from the generator. These should be completely random without any structure right now.\n"
      ]
    },
    {
      "cell_type": "code",
      "execution_count": 7,
      "metadata": {
        "id": "R1p_qi27TgGE"
      },
      "outputs": [],
      "source": [
        "# Generate some images\n",
        "def generate_samples(generator, device):\n",
        "    n_samples = 9\n",
        "    generator.eval()\n",
        "    generator.to(device)\n",
        "    with torch.inference_mode():\n",
        "        X = torch.randn(n_samples, 128).to(device)\n",
        "        generated = generator(X)\n",
        "        generated = generated.cpu().detach()\n",
        "\n",
        "    # Visualize generated images\n",
        "    plt.figure(figsize=(7, 7))\n",
        "    plt.title('Generated Images')\n",
        "    plt.axis('off')\n",
        "    for i in range(n_samples):\n",
        "        plt.subplot(3, 3, i+1)\n",
        "        img = generated[i].squeeze()\n",
        "        plt.imshow(img, cmap='gray')\n",
        "        plt.axis('off')\n",
        "\n"
      ]
    },
    {
      "cell_type": "code",
      "execution_count": 8,
      "metadata": {
        "colab": {
          "base_uri": "https://localhost:8080/",
          "height": 632
        },
        "id": "1NeDZasiTgGE",
        "outputId": "65b1393d-8a8e-4d3d-df9c-f4b9cbd52ae1"
      },
      "outputs": [
        {
          "name": "stderr",
          "output_type": "stream",
          "text": [
            "<ipython-input-7-76212cd9876a>:16: MatplotlibDeprecationWarning: Auto-removal of overlapping axes is deprecated since 3.6 and will be removed two minor releases later; explicitly call ax.remove() as needed.\n",
            "  plt.subplot(3, 3, i+1)\n"
          ]
        },
        {
          "data": {
            "image/png": "[encoded data removed]",
            "text/plain": [
              "<Figure size 700x700 with 9 Axes>"
            ]
          },
          "metadata": {},
          "output_type": "display_data"
        }
      ],
      "source": [
        "generate_samples(generator, device)"
      ]
    },
    {
      "cell_type": "markdown",
      "metadata": {
        "id": "H9plh8hqTgGE"
      },
      "source": [
        "## 4. Build Discriminator\n",
        "\n",
        "The discriminator will take the sample from the generator and the real data and try to classify them as real or fake. It will use a bunch of convolutional layers to find filters that can be used to classify the data. The output of the discriminator will be a single number logit.\n"
      ]
    },
    {
      "cell_type": "code",
      "execution_count": 9,
      "metadata": {
        "id": "MgHVqfzTTgGE"
      },
      "outputs": [],
      "source": [
        "class Discriminator(nn.Module):\n",
        "\n",
        "    def __init__(self):\n",
        "        super().__init__()\n",
        "        self.conv1 = nn.Sequential(\n",
        "            nn.Conv2d(1, 32, kernel_size=3),\n",
        "            nn.LeakyReLU(0.2),\n",
        "            nn.Dropout(0.3),\n",
        "        )\n",
        "        self.conv2 = nn.Sequential(\n",
        "            nn.Conv2d(32, 64, kernel_size=3),\n",
        "            nn.LeakyReLU(0.2),\n",
        "            nn.Dropout(0.3),\n",
        "        )\n",
        "        self.conv3 = nn.Sequential(\n",
        "            nn.Conv2d(64, 128, kernel_size=3),\n",
        "            nn.LeakyReLU(0.2),\n",
        "            nn.Dropout(0.3),\n",
        "        )\n",
        "        self.conv4 = nn.Sequential(\n",
        "            nn.Conv2d(128, 256, kernel_size=3),\n",
        "            nn.LeakyReLU(0.2),\n",
        "            nn.Dropout(0.3),\n",
        "            nn.MaxPool2d(2, 2),\n",
        "        )\n",
        "        self.output = nn.Sequential(\n",
        "            nn.Flatten(),\n",
        "            nn.Linear(256*10*10, 1),\n",
        "        )\n",
        "\n",
        "    def forward(self, x):\n",
        "        x = self.conv1(x)\n",
        "        x = self.conv2(x)\n",
        "        x = self.conv3(x)\n",
        "        y = self.conv4(x)\n",
        "        y = self.output(y)\n",
        "        return y"
      ]
    },
    {
      "cell_type": "markdown",
      "metadata": {
        "id": "H8XafFnCTgGE"
      },
      "source": [
        "Let's convince ourselves that the input and output shapes of the discriminator are correct.\n"
      ]
    },
    {
      "cell_type": "code",
      "execution_count": 10,
      "metadata": {
        "colab": {
          "base_uri": "https://localhost:8080/"
        },
        "id": "E5ML4C6dTgGE",
        "outputId": "c421ba45-ac2b-49b4-bd73-0fadd4544ae4"
      },
      "outputs": [
        {
          "name": "stdout",
          "output_type": "stream",
          "text": [
            "Input shape: torch.Size([1, 1, 28, 28])\n",
            "Output shape: torch.Size([1, 1])\n",
            "Batch Input shape: torch.Size([32, 1, 28, 28])\n",
            "Batch Output shape: torch.Size([32, 1])\n"
          ]
        }
      ],
      "source": [
        "# Sanity check\n",
        "discriminator = Discriminator()\n",
        "X = torch.randn(1, 1, 28, 28)\n",
        "print(f\"Input shape: {X.shape}\")\n",
        "out = discriminator(X)\n",
        "print(f\"Output shape: {out.shape}\")\n",
        "\n",
        "X = torch.randn(32, 1, 28, 28)\n",
        "print(f\"Batch Input shape: {X.shape}\")\n",
        "out = discriminator(X)\n",
        "print(f\"Batch Output shape: {out.shape}\")"
      ]
    },
    {
      "cell_type": "markdown",
      "metadata": {
        "id": "cpaeYf-OTgGF"
      },
      "source": [
        "## 5. Train\n",
        "\n",
        "This is the main part of the code. We will train the GAN here. We need to train the discriminator and the generator in an alternating fashion. I will use the following algorithm:\n",
        "\n",
        "1. Take a batch of real samples and a batch of fake samples from the generator.\n",
        "2. Train the discriminator for one step on this batch. We will use the cross entropy loss. We want the discriminator to output 1 for real images and 0 for fake images. So we will compare the output of the discriminator with a tensor of zeros for the real images and a tensor of ones for the fake images.\n",
        "3. Backpropagate the error through the discriminator.\n",
        "4. Take a batch of fake samples from the generator and pass it through the discriminator to get the output. We don't need to calculate the gradients for the discriminator here, so set the model to eval mode.\n",
        "5. Calculate the loss for the generator using the output from the discriminator. We want the generator to output images that the discriminator classifies as real. So compare the output of the discriminator with a tensor of ones for these fake images.\n",
        "6. Backpropagate the error through the generator.\n",
        "7. Repeat steps 1-6 for a number of epochs.\n"
      ]
    },
    {
      "cell_type": "code",
      "execution_count": 11,
      "metadata": {
        "id": "3l3Ft9ZuTgGF"
      },
      "outputs": [],
      "source": [
        "from tqdm import tqdm\n",
        "\n",
        "def train(generator, discriminator, generator_loss_fn, discriminator_loss_fn, generator_optimizer, discriminator_optimizer, training_dataloader, device, epochs):\n",
        "    for epoch in tqdm(range(epochs)):\n",
        "        print(f\"Epoch {epoch+1} of {epochs}\")\n",
        "        print(\"-\"*20)\n",
        "\n",
        "        epoch_g_loss, epoch_d_loss = 0., 0.\n",
        "\n",
        "        for batch, (X_train, _) in enumerate(training_dataloader):\n",
        "            # Move images to device\n",
        "            X = X_train.to(device)\n",
        "\n",
        "            # Real images and fake images\n",
        "            generator.eval()\n",
        "            d_real_X = X\n",
        "            d_fake_X = generator(torch.randn(BATCH_SIZE, 128).to(device))\n",
        "\n",
        "            # Train discriminator\n",
        "            discriminator.train()\n",
        "\n",
        "            # Get discriminator outputs for real and fake images\n",
        "            d_real_Y = discriminator(d_real_X)\n",
        "            d_fake_Y = discriminator(d_fake_X)\n",
        "            d_Y = torch.cat([d_real_Y, d_fake_Y], dim=0)\n",
        "\n",
        "            # Create labels for discriminator outputs based on real or fake\n",
        "            d_Y_train = torch.cat([torch.zeros_like(d_real_Y), torch.ones_like(d_fake_Y)], dim=0)\n",
        "            noise = torch.randn(d_Y.shape).to(device)\n",
        "            d_Y_train += 0.20 * noise\n",
        "            d_Y_train = d_Y_train\n",
        "\n",
        "            # Calculate discriminator loss and update weights\n",
        "            d_loss = discriminator_loss_fn(d_Y, d_Y_train)\n",
        "            epoch_d_loss += d_loss\n",
        "            discriminator_optimizer.zero_grad()\n",
        "            d_loss.backward()\n",
        "            discriminator_optimizer.step()\n",
        "\n",
        "            # Train generator\n",
        "            generator.train()\n",
        "\n",
        "            # Generate fake images\n",
        "            d_fake_X = generator(torch.randn(BATCH_SIZE, 128).to(device))\n",
        "\n",
        "            # Get discriminator outputs for fake images\n",
        "            discriminator.eval()\n",
        "            # Get discriminator outputs for fake images\n",
        "            d_fake_Y = discriminator(d_fake_X)\n",
        "\n",
        "            # For generator, we want the discriminator to think the images are real (0)\n",
        "            # So the output is compared to 0s (1 would mean fake)\n",
        "            d_Y_train = torch.zeros_like(d_fake_Y).to(device)\n",
        "\n",
        "            # Calculate generator loss and update weights\n",
        "            g_loss = generator_loss_fn(d_fake_Y, d_Y_train)\n",
        "            epoch_g_loss += g_loss\n",
        "            generator_optimizer.zero_grad()\n",
        "            g_loss.backward()\n",
        "            generator_optimizer.step()\n",
        "\n",
        "            if batch % 100 == 0:\n",
        "                print(f\"Batch {batch} | Generator Loss: {g_loss:.2f} | Discriminator Loss: {d_loss:.2f}\")\n",
        "\n",
        "        epoch_g_loss = epoch_g_loss / len(training_dataloader)\n",
        "        epoch_d_loss = epoch_d_loss / len(training_dataloader)\n",
        "        print(f\"Generator Loss: {epoch_g_loss:.2f} - Discriminator Loss: {epoch_d_loss:.2f}\")\n",
        "        print(\"-\"*20)"
      ]
    },
    {
      "cell_type": "code",
      "execution_count": 12,
      "metadata": {
        "colab": {
          "base_uri": "https://localhost:8080/"
        },
        "id": "q_xw6pAGTgGF",
        "outputId": "568a69da-7633-4a6f-8db8-1b3cca7ec997"
      },
      "outputs": [
        {
          "name": "stderr",
          "output_type": "stream",
          "text": [
            "\r  0%|          | 0/10 [00:00<?, ?it/s]"
          ]
        },
        {
          "name": "stdout",
          "output_type": "stream",
          "text": [
            "Epoch 1 of 10\n",
            "--------------------\n",
            "Batch 0 | Generator Loss: 0.69 | Discriminator Loss: 0.69\n",
            "Batch 100 | Generator Loss: 0.63 | Discriminator Loss: 0.61\n",
            "Batch 200 | Generator Loss: 0.92 | Discriminator Loss: 0.49\n",
            "Batch 300 | Generator Loss: 2.37 | Discriminator Loss: 0.07\n",
            "Batch 400 | Generator Loss: 1.82 | Discriminator Loss: 0.24\n"
          ]
        },
        {
          "name": "stderr",
          "output_type": "stream",
          "text": [
            "\r 10%|█         | 1/10 [02:52<25:54, 172.73s/it]"
          ]
        },
        {
          "name": "stdout",
          "output_type": "stream",
          "text": [
            "Generator Loss: 1.33 - Discriminator Loss: 0.52\n",
            "--------------------\n",
            "Epoch 2 of 10\n",
            "--------------------\n",
            "Batch 0 | Generator Loss: 6.48 | Discriminator Loss: 0.44\n",
            "Batch 100 | Generator Loss: 1.89 | Discriminator Loss: 0.16\n",
            "Batch 200 | Generator Loss: 4.13 | Discriminator Loss: 0.09\n",
            "Batch 300 | Generator Loss: 1.23 | Discriminator Loss: 0.29\n",
            "Batch 400 | Generator Loss: 2.83 | Discriminator Loss: 0.77\n"
          ]
        },
        {
          "name": "stderr",
          "output_type": "stream",
          "text": [
            "\r 20%|██        | 2/10 [05:45<22:59, 172.48s/it]"
          ]
        },
        {
          "name": "stdout",
          "output_type": "stream",
          "text": [
            "Generator Loss: 2.56 - Discriminator Loss: 0.23\n",
            "--------------------\n",
            "Epoch 3 of 10\n",
            "--------------------\n",
            "Batch 0 | Generator Loss: 1.18 | Discriminator Loss: 0.19\n",
            "Batch 100 | Generator Loss: 3.97 | Discriminator Loss: 0.04\n",
            "Batch 200 | Generator Loss: 3.04 | Discriminator Loss: -0.03\n",
            "Batch 300 | Generator Loss: 1.51 | Discriminator Loss: 0.11\n",
            "Batch 400 | Generator Loss: 4.45 | Discriminator Loss: 0.22\n"
          ]
        },
        {
          "name": "stderr",
          "output_type": "stream",
          "text": [
            "\r 30%|███       | 3/10 [08:37<20:06, 172.37s/it]"
          ]
        },
        {
          "name": "stdout",
          "output_type": "stream",
          "text": [
            "Generator Loss: 2.26 - Discriminator Loss: 0.18\n",
            "--------------------\n",
            "Epoch 4 of 10\n",
            "--------------------\n",
            "Batch 0 | Generator Loss: 4.40 | Discriminator Loss: 1.15\n",
            "Batch 100 | Generator Loss: 1.44 | Discriminator Loss: 0.24\n",
            "Batch 200 | Generator Loss: 1.61 | Discriminator Loss: 0.40\n",
            "Batch 300 | Generator Loss: 3.15 | Discriminator Loss: 0.11\n",
            "Batch 400 | Generator Loss: 1.81 | Discriminator Loss: 0.16\n"
          ]
        },
        {
          "name": "stderr",
          "output_type": "stream",
          "text": [
            "\r 40%|████      | 4/10 [11:29<17:14, 172.34s/it]"
          ]
        },
        {
          "name": "stdout",
          "output_type": "stream",
          "text": [
            "Generator Loss: 1.52 - Discriminator Loss: 0.20\n",
            "--------------------\n",
            "Epoch 5 of 10\n",
            "--------------------\n",
            "Batch 0 | Generator Loss: 0.82 | Discriminator Loss: 0.18\n",
            "Batch 100 | Generator Loss: 0.95 | Discriminator Loss: 0.04\n",
            "Batch 200 | Generator Loss: 0.55 | Discriminator Loss: 0.18\n",
            "Batch 300 | Generator Loss: 1.00 | Discriminator Loss: 0.07\n",
            "Batch 400 | Generator Loss: 0.29 | Discriminator Loss: 0.41\n"
          ]
        },
        {
          "name": "stderr",
          "output_type": "stream",
          "text": [
            "\r 50%|█████     | 5/10 [14:21<14:21, 172.35s/it]"
          ]
        },
        {
          "name": "stdout",
          "output_type": "stream",
          "text": [
            "Generator Loss: 1.27 - Discriminator Loss: 0.21\n",
            "--------------------\n",
            "Epoch 6 of 10\n",
            "--------------------\n",
            "Batch 0 | Generator Loss: 1.38 | Discriminator Loss: 0.26\n",
            "Batch 100 | Generator Loss: 0.84 | Discriminator Loss: 0.32\n",
            "Batch 200 | Generator Loss: 1.31 | Discriminator Loss: -0.01\n",
            "Batch 300 | Generator Loss: 1.09 | Discriminator Loss: 0.41\n",
            "Batch 400 | Generator Loss: 0.03 | Discriminator Loss: 0.16\n"
          ]
        },
        {
          "name": "stderr",
          "output_type": "stream",
          "text": [
            "\r 60%|██████    | 6/10 [17:14<11:29, 172.37s/it]"
          ]
        },
        {
          "name": "stdout",
          "output_type": "stream",
          "text": [
            "Generator Loss: 353.49 - Discriminator Loss: 1.24\n",
            "--------------------\n",
            "Epoch 7 of 10\n",
            "--------------------\n",
            "Batch 0 | Generator Loss: 0.03 | Discriminator Loss: 0.10\n",
            "Batch 100 | Generator Loss: 0.03 | Discriminator Loss: 0.06\n",
            "Batch 200 | Generator Loss: 0.01 | Discriminator Loss: 0.13\n",
            "Batch 300 | Generator Loss: 0.00 | Discriminator Loss: -0.03\n",
            "Batch 400 | Generator Loss: 0.00 | Discriminator Loss: 0.18\n"
          ]
        },
        {
          "name": "stderr",
          "output_type": "stream",
          "text": [
            "\r 70%|███████   | 7/10 [20:06<08:37, 172.36s/it]"
          ]
        },
        {
          "name": "stdout",
          "output_type": "stream",
          "text": [
            "Generator Loss: 0.01 - Discriminator Loss: 0.01\n",
            "--------------------\n",
            "Epoch 8 of 10\n",
            "--------------------\n",
            "Batch 0 | Generator Loss: 0.01 | Discriminator Loss: 0.07\n",
            "Batch 100 | Generator Loss: 0.00 | Discriminator Loss: 0.11\n",
            "Batch 200 | Generator Loss: 0.00 | Discriminator Loss: -0.03\n",
            "Batch 300 | Generator Loss: 0.02 | Discriminator Loss: -0.26\n",
            "Batch 400 | Generator Loss: 0.00 | Discriminator Loss: -0.12\n"
          ]
        },
        {
          "name": "stderr",
          "output_type": "stream",
          "text": [
            "\r 80%|████████  | 8/10 [22:59<05:44, 172.35s/it]"
          ]
        },
        {
          "name": "stdout",
          "output_type": "stream",
          "text": [
            "Generator Loss: 0.01 - Discriminator Loss: 0.00\n",
            "--------------------\n",
            "Epoch 9 of 10\n",
            "--------------------\n",
            "Batch 0 | Generator Loss: 0.05 | Discriminator Loss: -0.36\n",
            "Batch 100 | Generator Loss: 0.09 | Discriminator Loss: 0.01\n",
            "Batch 200 | Generator Loss: 0.01 | Discriminator Loss: 0.09\n",
            "Batch 300 | Generator Loss: 0.02 | Discriminator Loss: -0.08\n",
            "Batch 400 | Generator Loss: 0.00 | Discriminator Loss: -0.09\n"
          ]
        },
        {
          "name": "stderr",
          "output_type": "stream",
          "text": [
            "\r 90%|█████████ | 9/10 [25:51<02:52, 172.32s/it]"
          ]
        },
        {
          "name": "stdout",
          "output_type": "stream",
          "text": [
            "Generator Loss: 0.08 - Discriminator Loss: 0.01\n",
            "--------------------\n",
            "Epoch 10 of 10\n",
            "--------------------\n",
            "Batch 0 | Generator Loss: 0.02 | Discriminator Loss: -0.24\n",
            "Batch 100 | Generator Loss: 0.21 | Discriminator Loss: -0.19\n",
            "Batch 200 | Generator Loss: 0.11 | Discriminator Loss: 0.33\n",
            "Batch 300 | Generator Loss: 0.07 | Discriminator Loss: 0.23\n",
            "Batch 400 | Generator Loss: 0.11 | Discriminator Loss: -0.20\n"
          ]
        },
        {
          "name": "stderr",
          "output_type": "stream",
          "text": [
            "100%|██████████| 10/10 [28:43<00:00, 172.37s/it]"
          ]
        },
        {
          "name": "stdout",
          "output_type": "stream",
          "text": [
            "Generator Loss: 0.08 - Discriminator Loss: 0.02\n",
            "--------------------\n"
          ]
        },
        {
          "name": "stderr",
          "output_type": "stream",
          "text": [
            "\n"
          ]
        }
      ],
      "source": [
        "device = get_device()\n",
        "generator = Generator().to(device)\n",
        "discriminator = Discriminator().to(device)\n",
        "\n",
        "generator_loss_fn = nn.BCEWithLogitsLoss()\n",
        "generator_optimizer = torch.optim.Adam(generator.parameters(), lr=2e-4, betas=(0.5, 0.999))\n",
        "discriminator_loss_fn = nn.BCEWithLogitsLoss()\n",
        "discriminator_optimizer = torch.optim.Adam(discriminator.parameters(), lr=2e-4, betas=(0.5, 0.999))\n",
        "\n",
        "epochs = 10\n",
        "train(generator, discriminator, generator_loss_fn, discriminator_loss_fn, generator_optimizer, discriminator_optimizer, training_dataloader, device, epochs)"
      ]
    },
    {
      "cell_type": "markdown",
      "metadata": {
        "id": "Bp8ZoKYLTgGF"
      },
      "source": [
        "## 6. Evaluate the results\n",
        "\n",
        "Visualize the results of the trained generator. They should look like fashion items.\n"
      ]
    },
    {
      "cell_type": "code",
      "execution_count": 13,
      "metadata": {
        "colab": {
          "base_uri": "https://localhost:8080/",
          "height": 632
        },
        "id": "Wzij21TmTgGF",
        "outputId": "b1fd81f8-537f-46ca-8fa6-0fd31b001fdd"
      },
      "outputs": [
        {
          "name": "stderr",
          "output_type": "stream",
          "text": [
            "<ipython-input-7-76212cd9876a>:16: MatplotlibDeprecationWarning: Auto-removal of overlapping axes is deprecated since 3.6 and will be removed two minor releases later; explicitly call ax.remove() as needed.\n",
            "  plt.subplot(3, 3, i+1)\n"
          ]
        },
        {
          "data": {
            "image/png": "[encoded data removed]",
            "text/plain": [
              "<Figure size 700x700 with 9 Axes>"
            ]
          },
          "metadata": {},
          "output_type": "display_data"
        }
      ],
      "source": [
        "generate_samples(generator, device)"
      ]
    },
    {
      "cell_type": "markdown",
      "metadata": {},
      "source": [
        "Clearly, the results are not perfect. We can improve the results by training for more epochs, using a larger network, or tuning the hyperparameters. But this is a good start. The images are now starting to look like fashion items.\n"
      ]
    },
    {
      "cell_type": "markdown",
      "metadata": {
        "id": "rFaLm50EdW77"
      },
      "source": [
        "## 7. Save the model\n"
      ]
    },
    {
      "cell_type": "code",
      "execution_count": 14,
      "metadata": {
        "id": "hSJWaCbDda8F"
      },
      "outputs": [],
      "source": [
        "from pathlib import Path\n",
        "\n",
        "def save_model(model, model_name):\n",
        "    model_dir = Path(\"models\")\n",
        "    model_dir.mkdir(exist_ok=True)\n",
        "    torch.save(model.state_dict(), model_dir / model_name)\n",
        "\n",
        "save_model(generator, \"generator.pth\")\n",
        "save_model(discriminator, \"discriminator.pth\")"
      ]
    }
  ],
  "metadata": {
    "accelerator": "GPU",
    "colab": {
      "gpuType": "T4",
      "provenance": []
    },
    "kernelspec": {
      "display_name": "Python 3",
      "name": "python3"
    },
    "language_info": {
      "codemirror_mode": {
        "name": "ipython",
        "version": 3
      },
      "file_extension": ".py",
      "mimetype": "text/x-python",
      "name": "python",
      "nbconvert_exporter": "python",
      "pygments_lexer": "ipython3",
      "version": "3.11.4"
    }
  },
  "nbformat": 4,
  "nbformat_minor": 0
}
